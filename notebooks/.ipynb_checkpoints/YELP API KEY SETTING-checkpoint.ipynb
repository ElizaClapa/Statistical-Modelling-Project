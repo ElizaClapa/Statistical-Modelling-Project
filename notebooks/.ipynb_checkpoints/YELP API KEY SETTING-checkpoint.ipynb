{
 "cells": [
  {
   "cell_type": "markdown",
   "id": "d96ebd09-f3c1-4c0e-bef6-0465f7426a9e",
   "metadata": {},
   "source": [
    "# SAVE YELP API KEY IN AN ENVIRONMENT VARIABLE TO USE FOR FUTURE GET REQUESTS"
   ]
  },
  {
   "cell_type": "code",
   "execution_count": 2,
   "id": "3c00e24d-a684-4278-ac1b-86ba122679e5",
   "metadata": {},
   "outputs": [
    {
     "name": "stdout",
     "output_type": "stream",
     "text": [
      "env: YELP_API_KEY=DROu3_Du6pCg-6YRs6zMRWWe0iS39HxfXUcYaWJvcd5BiZ8ekNz6drSi_zLveaG5cmQPXPamWzp83Ko2Sk7nfqR1dNi0INyTBAjOsp6wvkB6RZZvJNbv8aTrpPoVZnYx\n"
     ]
    }
   ],
   "source": [
    "# Save Yelp API Key in environment variable YELP_API_KEY:\n",
    "%env YELP_API_KEY=DROu3_Du6pCg-6YRs6zMRWWe0iS39HxfXUcYaWJvcd5BiZ8ekNz6drSi_zLveaG5cmQPXPamWzp83Ko2Sk7nfqR1dNi0INyTBAjOsp6wvkB6RZZvJNbv8aTrpPoVZnYx"
   ]
  },
  {
   "cell_type": "code",
   "execution_count": 4,
   "id": "adbe0b6e-051b-4310-816a-ac4d25ef8187",
   "metadata": {},
   "outputs": [
    {
     "data": {
      "text/plain": [
       "'DROu3_Du6pCg-6YRs6zMRWWe0iS39HxfXUcYaWJvcd5BiZ8ekNz6drSi_zLveaG5cmQPXPamWzp83Ko2Sk7nfqR1dNi0INyTBAjOsp6wvkB6RZZvJNbv8aTrpPoVZnYx'"
      ]
     },
     "execution_count": 4,
     "metadata": {},
     "output_type": "execute_result"
    }
   ],
   "source": [
    "# Use the following to access it:\n",
    "import os\n",
    "\n",
    "yelp_api_key = os.environ[\"YELP_API_KEY\"]\n",
    "yelp_api_key"
   ]
  },
  {
   "cell_type": "code",
   "execution_count": null,
   "id": "adcb7015-f71d-4efe-9b55-2787bb065188",
   "metadata": {},
   "outputs": [],
   "source": []
  },
  {
   "cell_type": "code",
   "execution_count": null,
   "id": "408b53b1-0271-4097-b560-9bd7930ee756",
   "metadata": {},
   "outputs": [],
   "source": []
  }
 ],
 "metadata": {
  "kernelspec": {
   "display_name": "THE_ONE",
   "language": "python",
   "name": "the_one"
  },
  "language_info": {
   "codemirror_mode": {
    "name": "ipython",
    "version": 3
   },
   "file_extension": ".py",
   "mimetype": "text/x-python",
   "name": "python",
   "nbconvert_exporter": "python",
   "pygments_lexer": "ipython3",
   "version": "3.9.18"
  }
 },
 "nbformat": 4,
 "nbformat_minor": 5
}
